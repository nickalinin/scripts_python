{
 "cells": [
  {
   "cell_type": "code",
   "execution_count": 8,
   "id": "6bf26b06",
   "metadata": {},
   "outputs": [],
   "source": [
    "# Импорт библиотек\n",
    "from selenium import webdriver\n",
    "from selenium.webdriver.chrome.service import Service as ChromeService\n",
    "from webdriver_manager.chrome import ChromeDriverManager\n",
    "from selenium.webdriver.common.keys import Keys\n",
    "import pandas as pd\n",
    "import time\n",
    "import re"
   ]
  },
  {
   "cell_type": "code",
   "execution_count": 43,
   "id": "98bbe914",
   "metadata": {},
   "outputs": [],
   "source": [
    "# Подгружаем файл с адресами\n",
    "df = pd.read_excel('data.xlsx')"
   ]
  },
  {
   "cell_type": "code",
   "execution_count": 44,
   "id": "32f9a400",
   "metadata": {
    "scrolled": true
   },
   "outputs": [],
   "source": [
    "# Проходим по всем адресам в YandexMap через webdriver\n",
    "driver = webdriver.Chrome(service=ChromeService(ChromeDriverManager().install()))\n",
    "\n",
    "driver.get(\"https://yandex.ru/maps/\")\n",
    "html = driver.page_source\n",
    "pattern = r'input__control _bold\" id=\"(.*)\" type=\"text\"'\n",
    "id_ = re.findall(pattern, html)[0]\n",
    "time.sleep(3)\n",
    "\n",
    "for x, y in zip(df['Adress'], df.index):\n",
    "    \n",
    "    element = driver.find_element(By.ID, id_)\n",
    "    element.send_keys(x + '\\n')\n",
    "    time.sleep(0.5)\n",
    "    \n",
    "    html = driver.page_source\n",
    "    geo_pattern = r'toponym-card-title-view__coords-badge\">(.*)<span class=\"toponym-card-title-view__coords-copy-icon\">'\n",
    "    try: \n",
    "        geo_cor = re.findall(geo_pattern, html)[0]\n",
    "    except:\n",
    "        geo_cor = 'ND'\n",
    "        \n",
    "    df.loc[y, 'geo'] = geo_cor\n",
    "        \n",
    "    element.send_keys(Keys.CONTROL + \"a\")\n",
    "    element.send_keys(Keys.BACK_SPACE)"
   ]
  },
  {
   "cell_type": "code",
   "execution_count": null,
   "id": "35e9284d",
   "metadata": {},
   "outputs": [],
   "source": [
    "# Выгружаем файл с адресами и координатами\n",
    "df.to_excel('geo_data.xlsx')"
   ]
  }
 ],
 "metadata": {
  "kernelspec": {
   "display_name": "Python 3 (ipykernel)",
   "language": "python",
   "name": "python3"
  },
  "language_info": {
   "codemirror_mode": {
    "name": "ipython",
    "version": 3
   },
   "file_extension": ".py",
   "mimetype": "text/x-python",
   "name": "python",
   "nbconvert_exporter": "python",
   "pygments_lexer": "ipython3",
   "version": "3.8.18"
  }
 },
 "nbformat": 4,
 "nbformat_minor": 5
}
