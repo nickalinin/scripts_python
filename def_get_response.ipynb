{
 "cells": [
  {
   "cell_type": "code",
   "execution_count": null,
   "id": "7332c9f3",
   "metadata": {},
   "outputs": [],
   "source": [
    "import requests as r\n",
    "import time\n",
    "\n",
    "def get_response(url, delay=0.5, max_delay=30, step_delay=3):\n",
    "    \"\"\"\n",
    "    Функция рекурсивного запроса к сайту с увеличивающейся паузой, если у нас слишком много запросов\n",
    "    url - наша ссылка, данные по которой хотим получить\n",
    "    delay - пауза в загрузке, если слишком много запросов. Изначально равна 0.5\n",
    "    \"\"\"\n",
    "    \n",
    "    headers = {\n",
    "    'User-Agent': \n",
    "    'Mozilla/5.0 (Macintosh; Intel Mac OS X 10_10_1) AppleWebKit/537.36 (KHTML, like Gecko) Chrome/39.0.2171.95 Safari/537.36'\n",
    "            }\n",
    "    # Если задержка больше max_delay - кидаем ошибку\n",
    "    if delay > max_delay:\n",
    "        raise Exception('Delay Error')\n",
    "    \n",
    "    # Если задержка еще в рамках заданного диапазона - делаем паузу\n",
    "    time.sleep(delay)\n",
    "    \n",
    "    try:\n",
    "        response = r.get(url, headers=headers, timeout=15)\n",
    "    except:\n",
    "        raise Exception('TimeOut Error')\n",
    "    \n",
    "    if response.status_code == 200:\n",
    "        return response.content\n",
    "    \n",
    "    elif response.status_code == 429:\n",
    "        return get_response(url, delay=delay+step_delay)\n",
    "    else:\n",
    "        raise Exception('Unknown Error')"
   ]
  }
 ],
 "metadata": {
  "kernelspec": {
   "display_name": "Python 3 (ipykernel)",
   "language": "python",
   "name": "python3"
  },
  "language_info": {
   "codemirror_mode": {
    "name": "ipython",
    "version": 3
   },
   "file_extension": ".py",
   "mimetype": "text/x-python",
   "name": "python",
   "nbconvert_exporter": "python",
   "pygments_lexer": "ipython3",
   "version": "3.8.6"
  }
 },
 "nbformat": 4,
 "nbformat_minor": 5
}
